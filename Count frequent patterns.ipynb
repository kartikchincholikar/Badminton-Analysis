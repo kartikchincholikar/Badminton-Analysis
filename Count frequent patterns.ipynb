{
 "cells": [
  {
   "cell_type": "code",
   "execution_count": 1,
   "metadata": {
    "collapsed": true
   },
   "outputs": [],
   "source": [
    "import tensorflow as tf"
   ]
  },
  {
   "cell_type": "code",
   "execution_count": 1,
   "metadata": {
    "collapsed": true
   },
   "outputs": [],
   "source": [
    "player = \"taitzuying\"\n",
    "opponent = \"pvsindhu\""
   ]
  },
  {
   "cell_type": "code",
   "execution_count": 2,
   "metadata": {
    "collapsed": true
   },
   "outputs": [],
   "source": [
    "\n",
    "path = 'data/'+player+\"/\"+opponent+\".txt\"\n",
    "sentences = []\n",
    "with open(path, \"r\") as f:\n",
    "    for line in f:\n",
    "        sentences.append(line)"
   ]
  },
  {
   "cell_type": "code",
   "execution_count": 3,
   "metadata": {
    "collapsed": true
   },
   "outputs": [],
   "source": [
    "def return_char_list(string):\n",
    "    return string.split()\n"
   ]
  },
  {
   "cell_type": "code",
   "execution_count": 4,
   "metadata": {
    "collapsed": true
   },
   "outputs": [],
   "source": [
    "def get_count(string_list,sentences):\n",
    "    count = 0\n",
    "    if len(string_list)==3:\n",
    "        for sentence in sentences:\n",
    "            zero = [i for i, j in enumerate(sentence.split()) if j == string_list[0]]\n",
    "            \n",
    "            one = [i for i, j in enumerate(sentence.split()) if j == string_list[1]]\n",
    "            two = [i for i, j in enumerate(sentence.split()) if j == string_list[2]]\n",
    "            \n",
    "\n",
    "            for index in zero:\n",
    "                if (index+1) in one:\n",
    "                    if (index+2) in two:\n",
    "                        count+=1\n",
    "                        \n",
    "    elif len(string_list)==2:\n",
    "        for sentence in sentences:\n",
    "            zero = [i for i, j in enumerate(sentence.split()) if j == string_list[0]]\n",
    "            one = [i for i, j in enumerate(sentence.split()) if j == string_list[1]]\n",
    "\n",
    "            for index in zero:\n",
    "                if (index+1) in one:\n",
    "                    count+=1\n",
    "                 \n",
    "    return count"
   ]
  },
  {
   "cell_type": "code",
   "execution_count": 23,
   "metadata": {
    "collapsed": true
   },
   "outputs": [],
   "source": [
    "def get_absolute_predictables(sentences):\n",
    "    pla = \"1 2 3 4 5 6 7 8 9 7_ 8_ 9_ 7b 9b 7b_ 9b_\"\n",
    "    pla = return_char_list(pla)\n",
    "    pos = \"a b c d e f g h i g_ h_ i_ gb ib gb_ ib_\"\n",
    "    pos = return_char_list(pos)\n",
    "    \n",
    "    dictionary = {}\n",
    "    for a in pla:\n",
    "        for b in pos:\n",
    "            for c in pla:\n",
    "                string = a+b+c\n",
    "                count = get_count([a,b,c],sentences)\n",
    "                dictionary[string]=count\n",
    "                \n",
    "    top_patterns = sorted(dictionary.items(), key=lambda x: x[1])[-30:]\n",
    "\n",
    "    pattern_ratio = {}\n",
    "    for d in top_patterns:\n",
    "        first_two = d[0][:2]\n",
    "        two_count = get_count([first_two[0],first_two[1]],sentences)\n",
    "        three_count = d[1]\n",
    "        ratio = three_count/two_count\n",
    "        pattern_ratio[d[0]]=ratio\n",
    "    \n",
    "    absolute_dictionary=sorted(pattern_ratio.items(), key=lambda x: x[1])\n",
    "    return absolute_dictionary"
   ]
  },
  {
   "cell_type": "markdown",
   "metadata": {},
   "source": [
    " ## Predict Side"
   ]
  },
  {
   "cell_type": "code",
   "execution_count": 24,
   "metadata": {
    "collapsed": true
   },
   "outputs": [],
   "source": [
    "def get_sideways_predictables(sentences):\n",
    "    left = \"1 4 7 7_ 7b 7b_\"\n",
    "    left = return_char_list(left)\n",
    "\n",
    "    right = \"3 6 9 9_ 9b 9b_\"\n",
    "    right = return_char_list(right)\n",
    "\n",
    "    mid = \"2 5 8 8_\"\n",
    "    mid = return_char_list(mid)\n",
    "    \n",
    "    counts = {}\n",
    "    for a in pla:\n",
    "        for b in pos:\n",
    "            string = [a,b]\n",
    "            count = get_count(string,sentences)\n",
    "            counts[a+\" \"+b] = count\n",
    "\n",
    "    counts = sorted(counts.items(), key=lambda x: x[1])\n",
    "    freq_counts = counts[-30:] #most shots hit\n",
    "    \n",
    "    side_dictionary = {}\n",
    "    for shot_played in freq_counts:\n",
    "        base = shot_played[0].split()\n",
    "\n",
    "        count_left=0\n",
    "        count_right =0\n",
    "        count_mid=0\n",
    "\n",
    "        for x in left:\n",
    "            count_left += get_count(base+[x],sentences)\n",
    "        for x in right:\n",
    "            count_right += get_count(base+[x],sentences)\n",
    "        for x in mid:\n",
    "            count_mid += get_count(base+[x],sentences)\n",
    "\n",
    "\n",
    "        ratio = max([count_left,count_mid,count_right])/shot_played[1]\n",
    "        side_dictionary[shot_played[0]]=ratio\n",
    "\n",
    "    side_dictionary = sorted(side_dictionary.items(),key=lambda x: x[1])\n"
   ]
  },
  {
   "cell_type": "markdown",
   "metadata": {},
   "source": [
    "## Predict Front or Back"
   ]
  },
  {
   "cell_type": "code",
   "execution_count": 25,
   "metadata": {
    "collapsed": true
   },
   "outputs": [],
   "source": [
    "def get_frontback_predictables(sentences):\n",
    "    front = return_char_list(\"1 2 3\")\n",
    "    center = return_char_list(\"4 5 6\")\n",
    "    back = return_char_list(\"7 8 9 7_ 8_ 9_ 7b 8b 9b 7b_ 8b_ 9b_\")\n",
    "    counts = {}\n",
    "    for a in pla:\n",
    "        for b in pos:\n",
    "            string = [a,b]\n",
    "            count = get_count(string,sentences)\n",
    "            counts[a+\" \"+b] = count\n",
    "\n",
    "    counts = sorted(counts.items(), key=lambda x: x[1])\n",
    "    freq_counts = counts[-30:] #most shots hit\n",
    "   \n",
    "    front_back_dictionary = {}\n",
    "    for shot_played in freq_counts:\n",
    "        base = shot_played[0].split()\n",
    "\n",
    "        count_front=0\n",
    "        count_center =0\n",
    "        count_back=0\n",
    "\n",
    "        for x in front:\n",
    "            count_front += get_count(base+[x],sentences)\n",
    "        for x in center:\n",
    "            count_center += get_count(base+[x],sentences)\n",
    "        for x in back:\n",
    "            count_back += get_count(base+[x],sentences)\n",
    "\n",
    "\n",
    "        ratio = max([count_front,count_center,count_back])/shot_played[1]\n",
    "        front_back_dictionary[shot_played[0]]=ratio\n",
    "\n",
    "    front_back_dictionary = sorted(front_back_dictionary.items(),key=lambda x: x[1])\n",
    "    return front_back_dictionary"
   ]
  },
  {
   "cell_type": "code",
   "execution_count": 27,
   "metadata": {},
   "outputs": [
    {
     "data": {
      "text/plain": [
       "[('9 i', 0.36363636363636365),\n",
       " ('7 g', 0.375),\n",
       " ('2 i', 0.38461538461538464),\n",
       " ('7 c', 0.4),\n",
       " ('9_ i', 0.4),\n",
       " ('3 g', 0.4166666666666667),\n",
       " ('1 a', 0.42105263157894735),\n",
       " ('1 ib', 0.42857142857142855),\n",
       " ('1 g', 0.42857142857142855),\n",
       " ('3 i', 0.42857142857142855),\n",
       " ('1 i', 0.5),\n",
       " ('7 h', 0.5),\n",
       " ('9 g', 0.5),\n",
       " ('9 c', 0.5),\n",
       " ('7 i', 0.5714285714285714),\n",
       " ('7 a', 0.5714285714285714),\n",
       " ('2 g', 0.5714285714285714),\n",
       " ('1 ib_', 0.6),\n",
       " ('4 a', 0.6363636363636364),\n",
       " ('3 c', 0.6666666666666666),\n",
       " ('7 f', 0.6666666666666666),\n",
       " ('9 a', 0.6666666666666666),\n",
       " ('9 f', 0.6666666666666666),\n",
       " ('2 c', 0.7),\n",
       " ('7 d', 0.7058823529411765),\n",
       " ('1 c', 0.7142857142857143),\n",
       " ('2 a', 0.75),\n",
       " ('3 ib', 0.75),\n",
       " ('6 c', 0.7777777777777778),\n",
       " ('9 e', 0.875)]"
      ]
     },
     "execution_count": 27,
     "metadata": {},
     "output_type": "execute_result"
    }
   ],
   "source": [
    "get_frontback_predictables(sentences)"
   ]
  },
  {
   "cell_type": "code",
   "execution_count": null,
   "metadata": {
    "collapsed": true
   },
   "outputs": [],
   "source": []
  }
 ],
 "metadata": {
  "kernelspec": {
   "display_name": "Python 3",
   "language": "python",
   "name": "python3"
  },
  "language_info": {
   "codemirror_mode": {
    "name": "ipython",
    "version": 3
   },
   "file_extension": ".py",
   "mimetype": "text/x-python",
   "name": "python",
   "nbconvert_exporter": "python",
   "pygments_lexer": "ipython3",
   "version": "3.5.3"
  }
 },
 "nbformat": 4,
 "nbformat_minor": 2
}
